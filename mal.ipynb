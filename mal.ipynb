{
 "cells": [
  {
   "cell_type": "markdown",
   "id": "a1204183",
   "metadata": {},
   "source": [
    "# Machine Learning Project"
   ]
  },
  {
   "cell_type": "code",
   "execution_count": null,
   "id": "ec48f7c1",
   "metadata": {},
   "outputs": [],
   "source": [
    "# Student names and numbers:"
   ]
  },
  {
   "cell_type": "markdown",
   "id": "82fece5c",
   "metadata": {},
   "source": [
    "The assignments below should be solved and documented as a project that will form the basis for the\n",
    "examination. When solving the exercises it is important that you\n",
    "\n",
    "  * document all relevant results and analyses that you have obtained/performed during the exercises.\n",
    "  * try to relate your results to the theoretical background of the methods being applied.\n",
    "\n",
    "Feel free to add cells if you need to.\n",
    "\n",
    "Please hand in assignment 1-6 in a _**single**_ Jupyter notebook where you retain the questions outlined below. You are welcome to adapt code from the web (e.g. Kaggle kernels), but you **_must_** reference the original source in your notebook. In addition to _clean, well-documented code_ (i.e. functions with <a href=\"https://www.geeksforgeeks.org/python-docstrings/\">docstrings</a>, etc), your notebook will be judged according to how well each step is explained (using Markdown). \n",
    "\n",
    "In general, direct questions regarding assignments 1, 4, 5 and 6 to Frederik, and questions regarding assignments 2, 3, and 7 to Richard. \n",
    "\n",
    "Last, but not least:\n",
    "* Looking for an overview of the markdown language? The cheat sheet <a href=\"https://medium.com/ibm-data-science-experience/markdown-for-jupyter-notebooks-cheatsheet-386c05aeebed\">here</a> might help.\n",
    "* For the Python specific components of the exercises, you should not need constructs beyond those that are already included in the notebooks on the course's web-page (still you should not feel constrained by these, so feel free to be adventurous). You may, however, need to consult the documentation for some of the methods supplied by `sklearn`.\n",
    "\n",
    "**Groups:** Create your own groups. May be across teams. 2-4 students per group. No one-person groups.\n",
    "\n",
    "\n",
    "**Submission deadline:** Thursday, December 15 before 13.00 CET (Notebooks + presentation recording)\n",
    "\n",
    "**Expected workload:** Each student is expected to spend around around 50 hours on the project.\n",
    "\n",
    "### Deliverables\n",
    "The teams have to submit three deliverables before the submission deadline: 1) a notebook of assignments 1-6, 2) a notebook of assignment 7, and 3) presentation video uploaded to some online platform e.g. YouTube, Vimeo, etc.\n",
    "\n",
    "#### Notebook\n",
    "The notebook contains all the code to explore the dataset, train the final model and documents each step clearly. If code is copied from another codebase such as Github or Stack Overflow it **_must_** be properly referenced.\n",
    "\n",
    "\n",
    "#### Presentation\n",
    "The presentation video should be 15 min long and should highlight the problem you are solving, interesting things you found in the data and the step involved in building up your model. At the exam we will discuss the presentation and ask questions about your project and submissions. A link to the video must be placed in the notebook for assignment 7.\n",
    "\n",
    "### Randomness\n",
    "For ALL random states, choose state = 69 so we can replicate your work.\n"
   ]
  },
  {
   "cell_type": "code",
   "execution_count": 8,
   "id": "d5277d43",
   "metadata": {},
   "outputs": [],
   "source": [
    "# Import all necessary modules here:\n",
    "import ast\n",
    "from PIL import Image\n",
    "import os\n",
    "import numpy as np\n",
    "import pandas as pd\n",
    "import datetime as dt\n",
    "import cv2 as cv2\n",
    "\n",
    "from sklearn.neighbors import KNeighborsClassifier"
   ]
  },
  {
   "cell_type": "markdown",
   "id": "13418018",
   "metadata": {},
   "source": [
    "## 1. The IceCat Dataset\n",
    "\n",
    "__You should be able to do this exercise after Lecture 3.__"
   ]
  },
  {
   "cell_type": "markdown",
   "id": "5c81a178",
   "metadata": {},
   "source": [
    "The IceCat Dataset, kindly provided to us by Stibo Systems, contains a large amount of data on different office products. As an example of \"real-world\" data, these data are imperfect and incomplete. As such, this exercise is not so much an exercise in creating a good machine learning model, but places a larger emphasis on \"cleaning the data\".\n",
    "\n",
    "We are going to work with a subset of the IceCat Dataset. In particular, you will be provided with a zip file of 5,854 images of office products, each with the name \"product ID\".jpg. You will also be provided with a list of colors, `colors.txt`, which, when imported using the code below, is a list of tuples of the form `[(\"product ID\", \"color\"), ...]`. (The code below assumes that `colors.txt` is in the same folder as the jupyter notebook. Feel free to change the code if you prefer a different organization of your files)."
   ]
  },
  {
   "cell_type": "code",
   "execution_count": 2,
   "id": "662417a5",
   "metadata": {},
   "outputs": [],
   "source": [
    "with open(\"colors.txt\",\"r\") as file:\n",
    "    colors = ast.literal_eval(file.read())"
   ]
  },
  {
   "cell_type": "markdown",
   "id": "73687e72",
   "metadata": {},
   "source": [
    "Your task is to clean up the data and construct a simple machine learning model (_e.g._, _k_-nearest neighbor) that can identify the color of a product. You have free hands - there is hardly any one \"correct answer\" - but you need to argue for your choices. Among other things, you probably need to think about the following as you work with the data:\n",
    "\n",
    "* All of the images have different sizes.\n",
    "\n",
    "* Some of the images are RGB images (3 layers), others are CMYK (4 layers), some might even be black-and-white (1 layer).\n",
    "\n",
    "* Some colors are only represented by very few products.\n",
    "\n",
    "* Some colors are very similar, such as \"Purple\" and \"Violet\".\n",
    "\n",
    "* A product may have a particular color, but a packaging of a different color. Similarly, the color of, say, a computer monitor may be black, while the image of it could show a monitor that is turned on with a green screensaver.\n",
    "\n",
    "* Many products are attributed to several colors, such as \"Black, Blue\" or even \"Blue, Green, Orange, Violet, Yellow\". Yet others are described as \"Multicolor\" or \"Assorted colors\".\n",
    "\n",
    "Again, you have free hands in how you are going to solve these (and other) challenges, but you must argue for and reflect on your choices as you progress."
   ]
  },
  {
   "cell_type": "markdown",
   "id": "73f6191a",
   "metadata": {},
   "source": [
    "### Cleansing of  data"
   ]
  },
  {
   "cell_type": "code",
   "execution_count": null,
   "id": "fccf8ff7",
   "metadata": {},
   "outputs": [],
   "source": [
    "# find min width and min height of image collection to determine dimensions of resize\n",
    "# analysing data\n",
    "min_height = 10 * 100\n",
    "min_width = 10 * 100 \n",
    "\n",
    "parent_dir = os.getcwd()\n",
    "img_path = \"{}{}\".format(parent_dir, \"/images/\")\n",
    "\n",
    "for f in os.listdir(img_path):\n",
    "    fn, fext = os.path.splitext(f)\n",
    "    imgName = '{}{}'.format(fn, fext)\n",
    "    img = Image.open(os.path.join(img_path, imgName))\n",
    "    if (img.width < min_width):\n",
    "        min_width = img.width\n",
    "    if (img.height < min_height):\n",
    "        min_height = img.height\n",
    "print(\"Min width: {}, min height: {}\".format(min_width, min_height))   "
   ]
  },
  {
   "cell_type": "code",
   "execution_count": 3,
   "id": "4c49b49b",
   "metadata": {},
   "outputs": [
    {
     "name": "stdout",
     "output_type": "stream",
     "text": [
      "Min width: 100, min height: 100\n",
      "12\n"
     ]
    }
   ],
   "source": [
    "# check how many images can be reduced to 100 by 100 measurements\n",
    "min_height = 100\n",
    "min_width = 100 \n",
    "counter = 0\n",
    "\n",
    "parent_dir = os.getcwd()\n",
    "img_path = \"{}{}\".format(parent_dir, \"/images/\")\n",
    "\n",
    "for f in os.listdir(img_path):\n",
    "    fn, fext = os.path.splitext(f)\n",
    "    imgName = '{}{}'.format(fn, fext)\n",
    "    img = Image.open(os.path.join(img_path, imgName))\n",
    "    if (img.width < min_width or img.height < min_height):\n",
    "        counter += 1\n",
    "\n",
    "print(\"Min width: {}, min height: {}\".format(min_width, min_height))   \n",
    "print(counter)"
   ]
  },
  {
   "cell_type": "code",
   "execution_count": 4,
   "id": "83c084e7",
   "metadata": {},
   "outputs": [
    {
     "name": "stdout",
     "output_type": "stream",
     "text": [
      "12\n",
      "C:\\Users\\Maria\\Machine learning\\MAL1 Project/images/12072108.jpg\n",
      "C:\\Users\\Maria\\Machine learning\\MAL1 Project/images/12072114.jpg\n",
      "C:\\Users\\Maria\\Machine learning\\MAL1 Project/images/1294740.jpg\n",
      "C:\\Users\\Maria\\Machine learning\\MAL1 Project/images/1578973.jpg\n",
      "C:\\Users\\Maria\\Machine learning\\MAL1 Project/images/1586367.jpg\n",
      "C:\\Users\\Maria\\Machine learning\\MAL1 Project/images/1586373.jpg\n",
      "C:\\Users\\Maria\\Machine learning\\MAL1 Project/images/1898642.jpg\n",
      "C:\\Users\\Maria\\Machine learning\\MAL1 Project/images/2090912.jpg\n",
      "C:\\Users\\Maria\\Machine learning\\MAL1 Project/images/26284122.jpg\n",
      "C:\\Users\\Maria\\Machine learning\\MAL1 Project/images/5472096.jpg\n",
      "C:\\Users\\Maria\\Machine learning\\MAL1 Project/images/729840.jpg\n",
      "C:\\Users\\Maria\\Machine learning\\MAL1 Project/images/729841.jpg\n",
      "12072108\n",
      "12072114\n",
      "1294740\n",
      "1578973\n",
      "1586367\n",
      "1586373\n",
      "1898642\n",
      "2090912\n",
      "26284122\n",
      "5472096\n",
      "729840\n",
      "729841\n"
     ]
    }
   ],
   "source": [
    "## as there are only 12 images which have a size smaller than 100 x 100 px, they will be removed\n",
    "import os\n",
    "from PIL import Image\n",
    "\n",
    "counter = 0\n",
    "\n",
    "parent_dir = os.getcwd()\n",
    "img_path = \"{}{}\".format(parent_dir, \"/images/\")\n",
    "img_to_remove = []\n",
    "id_img_to_remove = []\n",
    "\n",
    "for f in os.listdir(img_path):\n",
    "    fn, fext = os.path.splitext(f)\n",
    "    imgName = '{}{}'.format(fn, fext)\n",
    "    fileName = os.path.join(img_path, imgName)\n",
    "    img = Image.open(fileName)\n",
    "    h, w = img.size\n",
    "    if(h < 100 or w < 100):\n",
    "        id_img_to_remove.append(int(fn))\n",
    "        img_to_remove.append(fileName)\n",
    "        counter += 1\n",
    "print(counter)\n",
    "\n",
    "for i in range(len(img_to_remove)):\n",
    "    print(img_to_remove[i])\n",
    "    os.remove(img_to_remove[i])\n",
    "\n",
    "for i in range(len(id_img_to_remove)):\n",
    "    print(id_img_to_remove[i])"
   ]
  },
  {
   "cell_type": "code",
   "execution_count": 5,
   "id": "acddbc13",
   "metadata": {},
   "outputs": [
    {
     "name": "stdout",
     "output_type": "stream",
     "text": [
      "Original num of label data: 5854\n",
      "Num of label data after multicolor removed: 5842\n",
      "Num of label tuples removed: 12\n"
     ]
    }
   ],
   "source": [
    "# clean up label data from img with less than 100 px in dimensions\n",
    "def remove_img(colors_data, img_ids):\n",
    "    colors_arr = colors_data.copy()\n",
    "    counter_removed = 0\n",
    "    i = len(colors_arr)\n",
    "    while(i):\n",
    "        i -= 1\n",
    "        if (colors_arr[i][0] in img_ids):\n",
    "            counter_removed += 1\n",
    "            colors_arr.remove(colors_arr[i])\n",
    "            \n",
    "    print(\"Original num of label data: {}\".format(len(colors_data)))\n",
    "    print(\"Num of label data after multicolor removed: {}\".format(len(colors_arr)))\n",
    "    print(\"Num of label tuples removed: {}\".format(counter_removed))\n",
    "    return colors_arr\n",
    "\n",
    "colors_arr = remove_img(colors, id_img_to_remove)        \n"
   ]
  },
  {
   "cell_type": "code",
   "execution_count": null,
   "id": "1a7e45ac",
   "metadata": {},
   "outputs": [],
   "source": [
    "## Images have different sizes, therefore make all images max 100 px width and height\n",
    "## if an image's width/height is smaller than 300 px, the image will keep original size of heigh/width\n",
    "parent_dir = os.getcwd()\n",
    "img_path = \"{}{}\".format(parent_dir, \"/images/\")\n",
    "\n",
    "new_dir_name = \"resized-images\"\n",
    "os.mkdir(\"{}\\{}\".format(parent_dir, new_dir_name))\n",
    "\n",
    "for f in os.listdir(img_path):\n",
    "    if f.endswith('.jpg'):\n",
    "        image = Image.open(\"{}{}\".format(img_path, f))\n",
    "        fn, fext = os.path.splitext(f)\n",
    "        imgResized = image.resize((100,100), Image.ANTIALIAS)\n",
    "        imgResized.save('{}/{}{}'.format(new_dir_name,fn, fext), 'jpeg', quality=90)"
   ]
  },
  {
   "cell_type": "code",
   "execution_count": null,
   "id": "396dc051",
   "metadata": {},
   "outputs": [],
   "source": [
    "# check how many images RGB, CMYK or L\n",
    "parent_dir = os.getcwd()\n",
    "img_path = os.path.join(parent_dir, \"resized-images\")\n",
    "\n",
    "RGB_count = 0\n",
    "CMYK_count = 0\n",
    "L_count = 0\n",
    "\n",
    "for file in os.listdir(img_path):\n",
    "    if file.endswith('.jpg'):\n",
    "        fn, fext = os.path.splitext(file)\n",
    "        imgName = '{}{}'.format(fn, fext)\n",
    "        img = Image.open(os.path.join(img_path, imgName))\n",
    "        if img.mode == 'RGB':\n",
    "            RGB_count += 1\n",
    "        elif img.mode == 'CMYK':\n",
    "            CMYK_count += 1\n",
    "        else:\n",
    "            L_count += 1\n",
    "                \n",
    "print('RGB: {}, CMYK: {}, L: {}'.format(RGB_count, CMYK_count, L_count))"
   ]
  },
  {
   "cell_type": "code",
   "execution_count": null,
   "id": "43184062",
   "metadata": {},
   "outputs": [],
   "source": [
    "# convert all CMYK images to RGB\n",
    "parent_dir = os.getcwd()\n",
    "img_path = os.path.join(parent_dir, \"resized-images\")\n",
    "count = 0\n",
    "\n",
    "for file in os.listdir(img_path):\n",
    "    if file.endswith('.jpg'):\n",
    "        fn, fext = os.path.splitext(file)\n",
    "        imgName = '{}{}'.format(fn, fext)\n",
    "        img = Image.open(os.path.join(img_path, imgName))\n",
    "        if img.mode == 'CMYK':\n",
    "            img = img.convert('RGB')\n",
    "            img.save(os.path.join(img_path, imgName), 'JPEG')\n",
    "            count += 1\n",
    "print(\"Successfully converted [{}] CMYK images to RGB\".format(count))"
   ]
  },
  {
   "cell_type": "code",
   "execution_count": null,
   "id": "7c7ff044",
   "metadata": {},
   "outputs": [],
   "source": [
    "# find maximum amount colors per image\n",
    "max_num_of_colors = 1\n",
    "\n",
    "for i in range(len(colors_arr)):\n",
    "    len_colors = len(colors_arr[i][1].strip().split(\" \"))\n",
    "    if (len_colors > max_num_of_colors):\n",
    "        max_num_of_colors = len_colors\n",
    "\n",
    "print(\"Max num of colors per image found [{}]\".format(max_num_of_colors))"
   ]
  },
  {
   "cell_type": "code",
   "execution_count": null,
   "id": "56d80c12",
   "metadata": {},
   "outputs": [],
   "source": [
    "# check how many tuples in dataset have more than 1 color\n",
    "num_img_with_more_than_one_color = 0\n",
    "\n",
    "for i in range(len(colors_arr)):\n",
    "    len_colors = len(colors_arr[i][1].strip().split(\" \"))\n",
    "    if (len_colors > 1):\n",
    "        num_img_with_more_than_one_color += 1\n",
    "\n",
    "print(\"Max num images found with more than 1 color [{}]\".format(num_img_with_more_than_one_color))"
   ]
  },
  {
   "cell_type": "markdown",
   "id": "9be378ff",
   "metadata": {},
   "source": [
    "#### Remove multicolored images and labels"
   ]
  },
  {
   "cell_type": "code",
   "execution_count": null,
   "id": "e40bd0bf",
   "metadata": {},
   "outputs": [],
   "source": [
    "# delete images with more than one color label found from resized\n",
    "cwd = os.getcwd()    \n",
    "location = os.path.join(cwd, \"resized-images\")\n",
    "num_more_than_two = 0\n",
    "\n",
    "for i in range(len(colors_arr)):\n",
    "    len_colors = len(colors_arr[i][1].strip().split(\" \"))\n",
    "    if (not colors_arr[i][0] in id_img_to_remove):\n",
    "        if (len_colors > 1 ):\n",
    "            num_more_than_two += 1\n",
    "            file = \"{}{}\".format(str(colors_arr[i][0]), '.jpg')\n",
    "            path = os.path.join(location, file)\n",
    "            os.remove(path)\n",
    "    \n",
    "\n",
    "print(\"Num of images removed [{}]\".format(num_more_than_two))"
   ]
  },
  {
   "cell_type": "code",
   "execution_count": null,
   "id": "e63b749c",
   "metadata": {},
   "outputs": [],
   "source": [
    "# remove data/tuples with more than one color label\n",
    "def remove_more_than_one_color_label(colors_data):\n",
    "    colors_arr = colors_data.copy()\n",
    "    i = len(colors_arr)\n",
    "    while (i):\n",
    "        i -= 1\n",
    "        len_colors = len(colors_arr[i][1].strip().split(\" \"))\n",
    "        if (len_colors > 1):\n",
    "            colors_arr.remove(colors_arr[i])\n",
    "    print(\"Original num of label data: {}\".format(len(colors_data)))\n",
    "    print(\"Num of label data after multicolor removed: {}\".format(len(colors_arr)))\n",
    "    return colors_arr\n",
    "\n",
    "colors_arr = remove_more_than_one_color_label(colors_arr)        "
   ]
  },
  {
   "cell_type": "code",
   "execution_count": null,
   "id": "b3a15a87",
   "metadata": {},
   "outputs": [],
   "source": [
    "# delete images with Multicolour label found from resized\n",
    "cwd = os.getcwd()    \n",
    "location = os.path.join(cwd, \"resized-images\")\n",
    "num_multi_label_found = 0\n",
    "multi_label = \"Multicolour\"\n",
    "multi_label_abbr = \"Multi\"\n",
    "multi_color_exists = False\n",
    "\n",
    "for i in range(len(colors_arr)):\n",
    "    if (colors_arr[i][1].lower() == multi_label.lower() or \n",
    "        colors_arr[i][1].lower() == multi_label_abbr.lower()):\n",
    "        multi_color_exists = True\n",
    "        num_multi_label_found += 1\n",
    "        file = \"{}{}\".format(str(colors_arr[i][0]), '.jpg')\n",
    "        path = os.path.join(location, file)\n",
    "        os.remove(path)\n",
    "if not multi_color_exists:\n",
    "    print(\"No data with multicolor labels found\")\n",
    "\n",
    "print(\"Num of images with Multicolour label removed [{}]\".format(num_multi_label_found))"
   ]
  },
  {
   "cell_type": "code",
   "execution_count": null,
   "id": "9d354cde",
   "metadata": {},
   "outputs": [],
   "source": [
    "# remove data/tuples with more than one color label\n",
    "def remove_multicolour_label(colors_data):\n",
    "    colors_arr = colors_data.copy()\n",
    "    i = len(colors_arr)\n",
    "    while (i):\n",
    "        i -= 1\n",
    "        if (colors_arr[i][1].lower() == multi_label.lower() or \n",
    "           colors_arr[i][1].lower() == multi_label_abbr.lower()):\n",
    "            colors_arr.remove(colors_arr[i])\n",
    "    print(\"Original num of label data: {}\".format(len(colors_data)))\n",
    "    print(\"Num of label data after multicolor removed: {}\".format(len(colors_arr)))\n",
    "    return colors_arr\n",
    "\n",
    "colors_arr = remove_multicolour_label(colors_arr)     "
   ]
  },
  {
   "cell_type": "code",
   "execution_count": null,
   "id": "ca17c4f0",
   "metadata": {},
   "outputs": [],
   "source": [
    "# find how many colors in dataset after removing multicolors\n",
    "colors_found = []\n",
    "all_colors = []\n",
    "colors_with_one_occurance = []\n",
    "\n",
    "for i in range(len(colors_arr)):\n",
    "    all_colors.append(colors_arr[i][1])\n",
    "    if (len(colors_found) == 0):\n",
    "        colors_found.append(colors_arr[i][1])\n",
    "    else:\n",
    "        exist = False\n",
    "        for j in range(len(colors_found)):\n",
    "            if (colors_arr[i][1] == colors_found[j]):\n",
    "                exist = True\n",
    "        if not exist:\n",
    "            colors_found.append(colors_arr[i][1])\n",
    "\n",
    "print(\"Number of colors found: {} in {} images\".format(len(colors_found), len(colors_arr)))    \n",
    "#for i in range(len(colors_found)):\n",
    "    #print(colors_found[i])\n",
    "\n",
    "for i in range(len(colors_found)):\n",
    "    print(\"Occurrences of color {}: {}\".format(colors_found[i], all_colors.count(colors_found[i])))"
   ]
  },
  {
   "cell_type": "code",
   "execution_count": null,
   "id": "b3d6e389",
   "metadata": {},
   "outputs": [],
   "source": [
    "#Research paper mentioning 11 basic colour categories for classifications of basic colors\n",
    "#Red, Green, Blue, Yellow, Orange, Pink, Purple, Brown, Grey, Black, and White\n",
    "basic_color_categories = [\"Red\", \"Green\", \"Blue\", \"Yellow\", \"Orange\", \"Pink\", \n",
    "                          \"Purple\", \"Brown\", \"Grey\", \"Black\", \"White\"]\n",
    "\n",
    "cwd = os.getcwd()    \n",
    "location = os.path.join(cwd, \"resized-images\")\n",
    "\n",
    "def delete_img_from_resized_collection(filename):\n",
    "        file = \"{}{}\".format(filename, '.jpg')\n",
    "        path = os.path.join(location, file)\n",
    "        os.remove(path)\n",
    "\n",
    "# remove data/tuples with more than one color label\n",
    "def remove_all_non_basic_colors_from_label_data_and_img(colors_data):\n",
    "    colors_arr = colors_data.copy()\n",
    "    i = len(colors_arr)\n",
    "    while (i):\n",
    "        i -= 1\n",
    "        if not (colors_arr[i][1] in basic_color_categories):\n",
    "            delete_img_from_resized_collection(colors_arr[i][0])\n",
    "            colors_arr.remove(colors_arr[i])\n",
    "            #print(\"To remove: [{}]\".format(colors_arr[i][1]))\n",
    "    return colors_arr\n",
    "\n",
    "colors_arr = remove_all_non_basic_colors_from_label_data_and_img(colors_arr)\n",
    "print(\"label data: [{}]\".format(len(colors_arr)))"
   ]
  },
  {
   "cell_type": "code",
   "execution_count": null,
   "id": "9715c341",
   "metadata": {},
   "outputs": [],
   "source": [
    "# array of ids\n",
    "# array of images in vector form\n",
    "# array of label\n",
    "\n",
    "# loop through images in folder \n",
    "# - take image id and place in array of ids\n",
    "# - take vector of img and place in vector array\n",
    "# - find label for that img id and place in array label\n",
    "\n",
    "#use cleansed label data to construct the three arrays\n",
    "from numpy import array\n",
    "import cv2\n",
    "\n",
    "cwd = os.getcwd()    \n",
    "location = os.path.join(cwd, \"resized-images\")\n",
    "\n",
    "arr_id = []\n",
    "arr_img_vec = []\n",
    "arr_label = []\n",
    "\n",
    "def get_img_vector(img_id, size=(32,32)):\n",
    "    file = \"{}{}\".format(img_id, '.jpg')\n",
    "    path = os.path.join(location, file)\n",
    "    arr = array(Image.open(path))\n",
    "    return arr.ravel()\n",
    "    \n",
    "for i in range(len(colors_arr)):\n",
    "    arr_id.append(colors_arr[i][0])\n",
    "    arr_label.append(colors_arr[i][1])\n",
    "    empty_arr = []\n",
    "    img_arr = get_img_vector(colors_arr[i][0])\n",
    "    for j in range(len(img_arr)):\n",
    "        print(img_arr[j])\n",
    "        empty_arr.append(img_arr[j])\n",
    "    arr_img_vec.append(empty_arr)\n",
    "   #arr_img_vec.append(get_img_vector(colors_arr[i][0]))\n",
    "    \n",
    "print(arr_img_vec)"
   ]
  },
  {
   "cell_type": "code",
   "execution_count": null,
   "id": "bdd93538",
   "metadata": {},
   "outputs": [],
   "source": [
    "data = {\n",
    "    \"image ID\": arr_id,\n",
    "    \"vector\": arr_img_vec,\n",
    "    \"label\": arr_label\n",
    "}\n",
    "\n",
    "dataset = pd.DataFrame(data)\n",
    "dataset"
   ]
  },
  {
   "cell_type": "code",
   "execution_count": null,
   "id": "714796f4",
   "metadata": {},
   "outputs": [],
   "source": [
    "# converting categorical data of 'label' column into numerical data - one-hot encoding\n",
    "dataset = pd.get_dummies(dataset, columns=['label'])\n",
    "dataset.head()"
   ]
  },
  {
   "cell_type": "code",
   "execution_count": null,
   "id": "191f13b8",
   "metadata": {},
   "outputs": [],
   "source": [
    "dataset_copy = dataset.copy(deep = True)\n",
    "\n",
    "dataset_data = np.array(dataset_copy[['vector']])\n",
    "print(len(dataset_data))\n",
    "print(dataset_data)\n",
    "print(type(dataset_data))\n",
    "\n",
    "#dataset_data_test = np.array([dataset_copy.pop(x) for x in ['vector']])\n",
    "#print(dataset_data_test)\n",
    "#print(len(dataset_data_test))\n",
    "#print(type(dataset_data_test))\n",
    "\n",
    "#dataset_data = np.array(dataset_copy[['vector']])\n",
    "#print(dataset_data)\n",
    "#print(len(dataset_data))\n",
    "#print(type(dataset_data))\n",
    "\n",
    "dataset_target = np.array(dataset_copy[['label_Black', 'label_Blue', 'label_Brown', 'label_Green', \n",
    "                                  'label_Grey', 'label_Orange', 'label_Pink', 'label_Purple', \n",
    "                                  'label_Red', 'label_White', 'label_Yellow']])\n",
    "print(dataset_target)\n",
    "print(len(dataset_target))\n",
    "print(type(dataset_target))\n",
    "\n",
    "#arrayOfArrays = np.array([dataset_data[x] for x in dataset_data])\n",
    "#print(arrayOfArrays)"
   ]
  },
  {
   "cell_type": "code",
   "execution_count": null,
   "id": "612a943b",
   "metadata": {},
   "outputs": [],
   "source": [
    "# split data into train validate and test\n",
    "from sklearn.model_selection import train_test_split\n",
    "\n",
    "X_trainval, X_test, y_trainval, y_test = train_test_split(dataset_data, dataset_target, random_state = 69)\n",
    "X_train, X_val, y_train, y_val = train_test_split(X_trainval, y_trainval, random_state = 69)\n",
    "print(\"Size of training set:{}\".format(X_train.shape[0]))\n",
    "print(\"Size of validation set:{}\".format(X_val.shape[0]))\n",
    "print(\"Size of test set:{}\".format(X_test.shape[0]))"
   ]
  },
  {
   "cell_type": "code",
   "execution_count": null,
   "id": "c2da5b94",
   "metadata": {},
   "outputs": [],
   "source": [
    "# Train several k-nearest-neighbor models on the data with various values of k\n",
    "from sklearn.neighbors import KNeighborsClassifier\n",
    "print(X_train)\n",
    "print(y_train)\n",
    "\n",
    "training_accuracy = []\n",
    "test_accuracy = []\n",
    "neighbors_settings = range(1, 20)\n",
    "\n",
    "for n_neighbors in neighbors_settings:\n",
    "    # build the model\n",
    "    classifier = KNeighborsClassifier(n_neighbors = n_neighbors)\n",
    "    classifier.fit(X_train, y_train)\n",
    "    # record training set accuracy\n",
    "    training_accuracy.append(clf.score(X_train, y_train))\n",
    "    # record generalization accuracy\n",
    "    test_accuracy.append(classifier.score(X_test, y_test))\n",
    "    \n",
    "plt.plot(neighbors_settings, training_accuracy, label=\"training accuracy\")\n",
    "plt.plot(neighbors_settings, test_accuracy, label=\"test accuracy\")\n",
    "plt.ylabel(\"Accuracy\")\n",
    "plt.xlabel(\"n_neighbors\")\n",
    "plt.legend();"
   ]
  },
  {
   "cell_type": "code",
   "execution_count": null,
   "id": "f8e6bec6",
   "metadata": {},
   "outputs": [],
   "source": [
    "# selecting hyperparameters using cross validation"
   ]
  },
  {
   "cell_type": "code",
   "execution_count": null,
   "id": "25375256",
   "metadata": {},
   "outputs": [],
   "source": [
    "# validate model"
   ]
  },
  {
   "cell_type": "markdown",
   "id": "a6b89f61",
   "metadata": {},
   "source": [
    "## 2. Flights Departing from NYC\n",
    "\n",
    "__You should be able to do this exercise after Lecture 4.__"
   ]
  },
  {
   "cell_type": "markdown",
   "id": "a1082097",
   "metadata": {},
   "source": [
    "For this exercise we will be using the famous nycflights13 data which contains the `airlines`, `airports`, `flights`, `planes`, and `weather` datasets. Please see the documentation (`nycflights13.pdf`) for further information."
   ]
  },
  {
   "cell_type": "markdown",
   "id": "1e475ec9",
   "metadata": {},
   "source": [
    "**(a)** Load all files as pandas dataframes and display the first 5 rows of each dataset."
   ]
  },
  {
   "cell_type": "markdown",
   "id": "0681403f",
   "metadata": {},
   "source": [
    "**(b)** Convert all temperature attributes to degree Celsius. We will be using this in what follows."
   ]
  },
  {
   "cell_type": "markdown",
   "id": "51ab8972",
   "metadata": {},
   "source": [
    "**(c)** Using OLS, investigate if flight distance is associated with arrival delay. You should be cautious regarding negative delays."
   ]
  },
  {
   "cell_type": "markdown",
   "id": "bde4f933",
   "metadata": {},
   "source": [
    "**(d)** Using OLS, investigate if departure delay is associated with arrival delay. Again,\n",
    "   consider what to do with negative delays."
   ]
  },
  {
   "cell_type": "markdown",
   "id": "29d8cd04",
   "metadata": {},
   "source": [
    "**(e)** Investigate whether departure delay is associated with weather conditions\n",
    "   at the origin airport. This includes descriptives, plotting, regression modelling,\n",
    "   considering missing values etc. For regression, do OLS, Ridge, Lasso, and Elastic Net.\n",
    "   The analysis should also include seasonality trends as a \"weather condition\". You could,\n",
    "   for instance, plot the daily departure delay with the date (or monthly). What are the\n",
    "   three most important weather conditions when trying to predict departure delays?"
   ]
  },
  {
   "cell_type": "markdown",
   "id": "5b258c61",
   "metadata": {},
   "source": [
    "**(f)** Is the age of the plane associated with delay? Do OLS, Ridge, Lasso, and Elastic Net."
   ]
  },
  {
   "cell_type": "markdown",
   "id": "2adff8a8",
   "metadata": {},
   "source": [
    "**(g)** Do a principal component analysis of the weather at JFK using the following columns:\n",
    "   temp, dewp, humid, wind_dir, wind_speed, precip, visib.\n",
    "   How many principal components should be used to capture the variability in the weather data?"
   ]
  },
  {
   "cell_type": "markdown",
   "id": "bb39a8b6",
   "metadata": {},
   "source": [
    "**(h)** Build regression models (OLS, Ridge, Lasso, and Elastic Net) that associates\n",
    "   an airports lattitude with weather conditions (temp, dewp, humid, wind_dir, wind_speed,\n",
    "   precip, visib). Remove all but the three most significant whether conditions and redo\n",
    "   the analysis."
   ]
  },
  {
   "cell_type": "markdown",
   "id": "113b1fff",
   "metadata": {},
   "source": [
    "**(i)** On a map, plot the airports that have flights to them where the points that represent\n",
    "   airports are relative in size to the average departure delay. You can see an example in \"airports.png\"."
   ]
  },
  {
   "cell_type": "markdown",
   "id": "b368a34c",
   "metadata": {},
   "source": [
    " **(j)** These questions require no code.\n",
    " - Suppose you are using Ridge Regression and you notice that the training error and the validation error are almost equal and fairly high. Would you say that the model suffers from high bias or high variance? Should you increase the regularization hyperparameter or reduce it?\n",
    "\n",
    "- Why would you want to use:\n",
    "        > Ridge Regression instead of plain Linear Regression (i.e. without any regularization)?\n",
    "        > Lasso instead of Ridge Regression?\n",
    "        > Elastic Net instead of Lasso?"
   ]
  },
  {
   "cell_type": "markdown",
   "id": "fc95a9a0",
   "metadata": {},
   "source": [
    "## 3. Clustering of Handwritten Digits\n",
    "\n",
    "__You should be able to do this exercise after Lecture 5.__"
   ]
  },
  {
   "cell_type": "markdown",
   "id": "9f727616",
   "metadata": {},
   "source": [
    "This exercise will depart from the famous MNIST dataset, and we are exploring several clustering techniques with it.. This is a \".mat\" file, in order to load this file in an ipynb you have to use loadmat() function from scipy.io. (replace my path)."
   ]
  },
  {
   "cell_type": "code",
   "execution_count": null,
   "id": "00b04425",
   "metadata": {},
   "outputs": [],
   "source": [
    "from scipy.io import loadmat\n",
    "mnist = loadmat('mnist-original')\n",
    "mnist_data = mnist[\"data\"].T\n",
    "mnist_label = mnist[\"label\"][0]\n",
    "import numpy as np\n",
    "print(\"Number of datapoints: {}\\n\".format(mnist_data.shape[0]))\n",
    "print(\"Number of features: {}\\n\".format(mnist_data.shape[1]))\n",
    "print(\"List of labels: {}\\n\".format(np.unique(mnist_label)))"
   ]
  },
  {
   "cell_type": "markdown",
   "id": "b7eb5b1b",
   "metadata": {},
   "source": [
    "There are 70,000 images, and each image has 784 features. This is because each image is 28×28 pixels,\n",
    "and each feature simply represents one pixel’s intensity, from 0 (white) to 255 (black). Let’s take a peek at one digit from the dataset. All you need to do is grab an instance’s feature vector, reshape it to a 28×28 array, and display it using Matplotlib’s `imshow()` function:"
   ]
  },
  {
   "cell_type": "code",
   "execution_count": null,
   "id": "3b40de33",
   "metadata": {},
   "outputs": [],
   "source": [
    "%matplotlib inline\n",
    "import matplotlib.pyplot as plt\n",
    "index = 4\n",
    "print(\"Value of datapoint no. {}:\\n{}\\n\".format(index,mnist_data[index]))\n",
    "print(\"As image:\\n\")\n",
    "plt.imshow(mnist_data[index].reshape(28,28),cmap=plt.cm.gray_r)\n",
    "plt.show()"
   ]
  },
  {
   "cell_type": "markdown",
   "id": "686b7b58",
   "metadata": {},
   "source": [
    "**(a)** Perform k-means clustering with k=10 on this dataset."
   ]
  },
  {
   "cell_type": "markdown",
   "id": "c5c5fd11",
   "metadata": {},
   "source": [
    "**(b)** Using visualization techniques analogous to what we have done in the Clustering notebook\n",
    "   for the faces data, can you determine the 'nature' of the 10 constructed clusters?\n",
    "   Do the clusters (roughly) coincide with the 10 different actual digits?"
   ]
  },
  {
   "cell_type": "markdown",
   "id": "cf7e37b0",
   "metadata": {},
   "source": [
    "**(c)** Perform a supervised clustering evaluation using adjusted rand index.\n",
    "   Are the results stable, when you perform several random restarts of k-means?"
   ]
  },
  {
   "cell_type": "markdown",
   "id": "13c0c249",
   "metadata": {},
   "source": [
    "**(d)** Now perform hierarchical clustering on the data.\n",
    "   (in order to improve visibility in the constructed dendrograms, you can also use a\n",
    "   much reduced dataset as constructed using sklearn.utils.resample shown below).\n",
    "   Does the visual analysis of the dendrogram indicate a natural number of clusters?"
   ]
  },
  {
   "cell_type": "markdown",
   "id": "cc64ddce",
   "metadata": {},
   "source": [
    "**(e)** Using different cluster distance metrics (ward,single,average, etc.),\n",
    "   what do the clusterings look like that are produced at the level of k=10 clusters?\n",
    "   See the Clustering notebook for the needed Python code, including the fcluster\n",
    "   method to retrieve 'plain' clusterings from the hierarchical clustering."
   ]
  },
  {
   "cell_type": "code",
   "execution_count": null,
   "id": "3287ef6e",
   "metadata": {},
   "outputs": [],
   "source": [
    "small_mnist_data,small_mnist_label = skl.utils.resample(mnist.data,mnist.target,n_samples=200,replace='false')"
   ]
  },
  {
   "cell_type": "markdown",
   "id": "1642b482",
   "metadata": {},
   "source": [
    "**(f)** Do a DBSCAN clustering of the small dataset. Tweak the different parameters."
   ]
  },
  {
   "cell_type": "markdown",
   "id": "5e7b8204",
   "metadata": {},
   "source": [
    "**(g)** Try to compare the different clustering methods on the MNIST dataset in the same way\n",
    "   the book does on the faces dataset on pp. 195-206."
   ]
  },
  {
   "cell_type": "markdown",
   "id": "a20edac0",
   "metadata": {},
   "source": [
    "## 4. The Local Elections\n",
    "\n",
    "__You should be able to do this exercise after Lecture 6.__\n",
    "\n",
    "In the local elections of 2021, around 100 candidates stood for election for the city council of Horsens. 83 of them represented a national party, had more than one candidate and provided answers to the <a href=\"https://www.dr.dk/nyheder/politik/kandidattest\">DR Candidate Test</a>, a test designed to help voters find out who they should vote for. In this test, the candidates answered 18 questions, which we will use as features in the following. The politicians belong to 9 parties, which will be our classes.\n",
    "\n",
    "The numpy files `X_Horsens.npy` and `Y_Horsens.npy` contains the data. `Y_Horsens.npy` contains a letter representing the party to which each candidate belongs. The following parties are represented:\n",
    "\n",
    "| Party letter | Party name | Party name (English) | Political position | Party color |\n",
    "| :-: | :-: | :-: | :-: | :-: |\n",
    "| A | Socialdemokratiet | Social Democrats | Centre-left | Red |\n",
    "| B | Radikale Venstre | Social Liberal Party | Centre-left | Indigo |\n",
    "| C | Det Konservative Folkeparti | Conservative People's Party | Right-wing | Green |\n",
    "| D | Nye Borgerlige | New Right | Far-right | Black |\n",
    "| F | Socialistisk Folkeparti | Socialist People's Party | Left-wing | Fuchsia |\n",
    "| I | Liberal Alliance | Liberal Alliance | Right-wing | Cyan |\n",
    "| O | Dansk Folkeparti | Danish People's Party | Far-right | Yellow |\n",
    "| V | Venstre | Danish Liberal Party | Centre-right | Blue |\n",
    "| Z* | Enhedslisten | Red-Green Alliance | Far-left | Dark red |\n",
    "\n",
    "*_Note that, although the party letter of Enhedslisten is actually Ø, we will here use Z to avoid any complications with the wonderful Danish letters Æ, Ø and Å. Feel free to change the Z back to an Ø if you find that it does not cause any problems._\n",
    "\n",
    "Meanwhile, `X_Horsens.npy` contains the answers to the test as numbers between -1.5 and 1.5, such that -1.5 is \"Strongly disagree\", -0.5 is \"Disagree\", 0.5 is \"Agree\" and 1.5 is \"Strongly agree\". The 18 questions concern, in order, subdivision, schools, windmills, building permits, tall buildings, housing, child care, culture, nursing homes, taxes, sports, refugees, nursing homes (again), public transportation, meat-free days, welfare, privatization, and religious minorities.\n",
    "\n",
    "Both files can be imported using `numpy.load`."
   ]
  },
  {
   "cell_type": "markdown",
   "id": "499ad3ae",
   "metadata": {},
   "source": [
    "__(a)__ How well do you (intuitively) expect that we can predict the partisan affiliation of a candidate based on their answers to the test?"
   ]
  },
  {
   "cell_type": "markdown",
   "id": "c779b82f",
   "metadata": {},
   "source": [
    "__(b)__ Based on the answers from all 83 candidates for the Horsens city council, perform a Principal Component Analysis with 2 principal components. Plot the results in a figure using these 2 components as the axes. Label the points with the party letter and the appropriate color."
   ]
  },
  {
   "cell_type": "markdown",
   "id": "ed229a10",
   "metadata": {},
   "source": [
    "__(c)__ Comment on the results. You may consider the following questions for inspiration: Can the political parties be separated? Can the typical distinction of \"left-wing\" and \"right-wing\" be discerned? Which of the 18 questions (features) are most important?"
   ]
  },
  {
   "cell_type": "markdown",
   "id": "693bf264",
   "metadata": {},
   "source": [
    "The number of candidates (83) is on the (very) low side when we want to do machine learning. Luckily, the neighbouring city of Databorg had no less than 8,300 candidates standing for election, with a political environment similar to that of Horsens. In the following, we will use the data from Databorg. These are stored in the numpy files `X_Databorg.npy` and `Y_Databorg.npy` in same format as the Horsens data.\n",
    "\n",
    "__(d)__ Once again, perform a Principal Component Analysis and visualize the results. Compare the results to those of the Horsens data."
   ]
  },
  {
   "cell_type": "markdown",
   "id": "77f65662",
   "metadata": {},
   "source": [
    "Confident that we can predict the partisan affiliation of a politician reasonably well based on their answers to the test, we want to build a model that will allow us to distinguish between the 9 political parties. For this purpose, we split the data into a training and a validation set.\n",
    "\n",
    "__(e)__ Split the data into a training and a validation set, with appropriate fractions."
   ]
  },
  {
   "cell_type": "markdown",
   "id": "ce842652",
   "metadata": {},
   "source": [
    "First, we assume that a Naive Bayes approach is sufficient for our purposes.\n",
    "\n",
    "__(f)__ Comment on the basic assumption of the Naive Bayes approach. Is this a reasonable assumption for the problem at hand?"
   ]
  },
  {
   "cell_type": "markdown",
   "id": "b1a4e6ee",
   "metadata": {},
   "source": [
    "__(g)__ Classify the instances of the validation set using a Naive Bayes approach. Comment on the results."
   ]
  },
  {
   "cell_type": "markdown",
   "id": "4247d964",
   "metadata": {},
   "source": [
    "Assume instead that a _k_-nearest neighbour approach is sufficient for our  needs.\n",
    "\n",
    "__(h)__ Using default settings of the _k_-NN classifier, classify the instances of the validation set. Comment on the performance."
   ]
  },
  {
   "cell_type": "markdown",
   "id": "f6ee14c9",
   "metadata": {},
   "source": [
    "__(i)__ Play around with different values of _k_. Decide on a \"good\" value of _k_. Comment on the results."
   ]
  },
  {
   "cell_type": "markdown",
   "id": "f7ac46e0",
   "metadata": {},
   "source": [
    "We now try to use a decision tree instead.\n",
    "\n",
    "__(j)__ What is the _minimum_ depth of an appropriate decision tree? Why?"
   ]
  },
  {
   "cell_type": "markdown",
   "id": "fce7a804",
   "metadata": {},
   "source": [
    "__(k)__ Build a decision tree with at least the depth from above. Play around with the tree depth. Include a figure that shows some relevant measure of the performance as a function of the tree depth. Comment on any issues of over-fitting. Decide on a tree which you will keep for later use. Can you do better than the _k_-NN classifier?"
   ]
  },
  {
   "cell_type": "markdown",
   "id": "8eadfb34",
   "metadata": {},
   "source": [
    "__(l)__ What are the most important features? Visualize this in an appropriate way. Does it match what you would expect? Compare to the results of the PCA analysis. Do we expect them to be the same? Why/why not?"
   ]
  },
  {
   "cell_type": "markdown",
   "id": "d8d773d1",
   "metadata": {},
   "source": [
    "We know that decision trees suffer from certain problems that may be solved by using decision forests.\n",
    "\n",
    "__(m)__ Build a decision forest. Play around with the number of trees in the forest. Decide on a forest."
   ]
  },
  {
   "cell_type": "markdown",
   "id": "1f9fec89",
   "metadata": {},
   "source": [
    "__(n)__ Extract the most important features. Comment and compare with previously obtained results."
   ]
  },
  {
   "cell_type": "markdown",
   "id": "01e832f6",
   "metadata": {},
   "source": [
    "Finally, we want to compare the models we have worked with so far (i.e., Naive Bayes, _k_-NN, decision tree and decision forest).\n",
    "\n",
    "__(o)__ Compare the results of the in terms of confusion matrices, accuracy, precision, recall, and f-score. How well can we predict the partisan affiliation of a candidate based on their answers to a test? How does this compare with your intuition? "
   ]
  },
  {
   "cell_type": "markdown",
   "id": "48bfa116",
   "metadata": {},
   "source": [
    "## 5. Sentiment Analysis\n",
    "\n",
    "__You should be able to do this exercise after Lecture 8.__"
   ]
  },
  {
   "cell_type": "markdown",
   "id": "bc341f3d",
   "metadata": {},
   "source": [
    "In this exercise we use the IMDb-dataset, which we will use to perform a sentiment analysis. The code below assumes that the data is placed in the same folder as this notebook. We see that the reviews are loaded as a pandas dataframe, and print the beginning of the first few reviews."
   ]
  },
  {
   "cell_type": "code",
   "execution_count": null,
   "id": "dd68564e",
   "metadata": {},
   "outputs": [],
   "source": [
    "reviews = pd.read_csv('reviews.txt', header=None)\n",
    "labels = pd.read_csv('labels.txt', header=None)\n",
    "Y = (labels=='positive').astype(np.int_)\n",
    "\n",
    "print(type(reviews))\n",
    "print(reviews.head())"
   ]
  },
  {
   "cell_type": "markdown",
   "id": "1d87438e",
   "metadata": {},
   "source": [
    "**(a)** Split the reviews and labels in test, train and validation sets. The train and validation sets will be used to train your model and tune hyperparameters, the test set will be saved for testing."
   ]
  },
  {
   "cell_type": "code",
   "execution_count": null,
   "id": "1ebd1ab0",
   "metadata": {},
   "outputs": [],
   "source": [
    "from sklearn.model_selection import train_test_split\n",
    "\n",
    "X_trainval, X_test, y_trainval, y_test = train_test_split(reviews, labels, random_state = 69)\n",
    "X_train, X_val, y_train, y_val = train_test_split(X_trainval, y_trainval, random_state = 69)\n",
    "print(\"Size of training set:{}\".format(X_train.shape[0]))\n",
    "print(\"Size of validation set:{}\".format(X_val.shape[0]))\n",
    "print(\"Size of test set:{}\".format(X_test.shape[0]))"
   ]
  },
  {
   "cell_type": "markdown",
   "id": "78d0784a",
   "metadata": {},
   "source": [
    "**(b)** Use the `CountVectorizer` from `sklearn.feature_extraction.text` to create a Bag-of-Words representation of the reviews. (See an example of how to do this in chapter 7 of \"Muller and Guido\"). Only use the 10,000 most frequent words (use the `max_features`-parameter of `CountVectorizer`)."
   ]
  },
  {
   "cell_type": "code",
   "execution_count": null,
   "id": "520579f4",
   "metadata": {},
   "outputs": [],
   "source": [
    "bards_words =[\"The fool doth think he is wise,\",\n",
    "\"but the wise man knows himself to be a fool\"]\n",
    "\n",
    "from sklearn.feature_extraction.text import CountVectorizer\n",
    "vect = CountVectorizer()\n",
    "vect.fit(bards_words)\n",
    "\n",
    "print(\"Vocabulary size: {}\".format(len(vect.vocabulary_)))\n",
    "print(\"Vocabulary content:\\n {}\".format(vect.vocabulary_))"
   ]
  },
  {
   "cell_type": "markdown",
   "id": "8c2b22be",
   "metadata": {},
   "source": [
    "**(c)** Explore the representation of the reviews. How is a single word represented? How about a whole review?"
   ]
  },
  {
   "cell_type": "markdown",
   "id": "112cbeb2",
   "metadata": {},
   "source": [
    "**(d)** Train a neural network with a single hidden layer on the dataset, tuning the relevant hyperparameters to optimize accuracy. "
   ]
  },
  {
   "cell_type": "markdown",
   "id": "51db8c3a",
   "metadata": {},
   "source": [
    "**(e)** Test your sentiment-classifier on the test set."
   ]
  },
  {
   "cell_type": "markdown",
   "id": "4ae1a79f",
   "metadata": {},
   "source": [
    "**(h)** Use the classifier to classify a few sentences you write yourselves. "
   ]
  },
  {
   "cell_type": "markdown",
   "id": "c37e79a7",
   "metadata": {},
   "source": [
    "## 6. Speech Recognition\n",
    "\n",
    "__You should be able to do this exercise after Lecture 9.__"
   ]
  },
  {
   "cell_type": "markdown",
   "id": "0db8bedf",
   "metadata": {},
   "source": [
    "In this exercise, we will work with the <a href=\"https://arxiv.org/pdf/1804.03209.pdf\">Google Speech Command Dataset</a>, which can be downloaded from <a href=\"http://download.tensorflow.org/data/speech_commands_v0.02.tar.gz\">here</a> (note: you do not need to download the full dataset, but it will allow you to play around with the raw audiofiles). This dataset contains 105,829 one-second long audio files with utterances of 35 common words.\n",
    "\n",
    "We will use a subset of this dataset as indicated in the table below.\n",
    "\n",
    "| Word | How many? | Class # |\n",
    "| :-: | :-: | :-: |\n",
    "| Yes | 4,044 | 3 |\n",
    "| No | 3,941 | 1 |\n",
    "| Stop | 3,872 | 2 |\n",
    "| Go | 3,880 | 0 |\n",
    "\n",
    "The data is given in the files `XSound.npy` and `YSound.npy`, both of which can be imported using `numpy.load`. `XSound.npy` contains spectrograms (_e.g._, matrices with a time-axis and a frequency-axis of size 62 (time) x 65 (frequency)). `YSound.npy` contains the class number, as indicated in the table above."
   ]
  },
  {
   "cell_type": "markdown",
   "id": "1bd36441",
   "metadata": {},
   "source": [
    "__(a)__ Explore and prepare the data, including splitting the data in training, validation and testing data, handling outliers, perhaps taking logarithms, etc. Data preparation is - as always - quite important. Document what you do."
   ]
  },
  {
   "cell_type": "markdown",
   "id": "b48a2bc7",
   "metadata": {},
   "source": [
    "__(b)__ Visualize a few examples of yes's, no's, stop's and go's, so that you have a reasonable intuitive understanding of the difference between the words."
   ]
  },
  {
   "cell_type": "markdown",
   "id": "cd2efe8e",
   "metadata": {},
   "source": [
    "__(c)__ Train a neural network and at least one other algorithm on the data. Find a good set of hyperparameters for each model. Do you think a neural network is suitable for this kind of problem? Why/why not?"
   ]
  },
  {
   "cell_type": "markdown",
   "id": "8fbc7b58",
   "metadata": {},
   "source": [
    "__(d)__ Classify instances of the validation set using your models. Comment on the results in terms of metrics you have learned in the course."
   ]
  },
  {
   "cell_type": "markdown",
   "id": "46f0bb8a",
   "metadata": {},
   "source": [
    "__(e)__ Identify (a few) misclassified words, including what they are misclassified as. Visualize them as before, and compare with your intuitive understanding of how the words look. Do you find the misclassified examples surprising?"
   ]
  },
  {
   "cell_type": "markdown",
   "id": "04fd02a9",
   "metadata": {},
   "source": [
    "## 7. Group Assignment & Presentation"
   ]
  },
  {
   "cell_type": "markdown",
   "id": "a573a219",
   "metadata": {},
   "source": [
    "\n",
    "\n",
    "__You should be able to start up on this exercise after Lecture 1.__\n",
    "\n",
    "*This exercise must be a group effort. That means everyone must participate in the assignment.*\n",
    "\n",
    "In this assignment you will solve a data science problem end-to-end, pretending to be recently hired data scientists in a company. To help you get started, we've prepared a checklist to guide you through the project. Here are the main steps that you will go through:\n",
    "\n",
    "1. Frame the problem and look at the big picture\n",
    "2. Get the data\n",
    "3. Explore and visualise the data to gain insights\n",
    "4. Prepare the data to better expose the underlying data patterns to machine learning algorithms\n",
    "5. Explore many different models and short-list the best ones\n",
    "6. Fine-tune your models\n",
    "7. Present your solution \n",
    "\n",
    "In each step we list a set of questions that one should have in mind when undertaking a data science project. The list is not meant to be exhaustive, but does contain a selection of the most important questions to ask. We will be available to provide assistance with each of the steps, and will allocate some part of each lesson towards working on the projects.\n",
    "\n",
    "Your group must submit a _**single**_ Jupyter notebook, structured in terms of the first 6 sections listed above (the seventh will be a video uploaded to some streaming platform, e.g. YouTube, Vimeo, etc.)."
   ]
  },
  {
   "cell_type": "markdown",
   "id": "4048c65d",
   "metadata": {},
   "source": [
    "### 1. Analysis: Frame the problem and look at the big picture\n",
    "1. Find a problem/task that everyone in the group finds interesting\n",
    "2. Define the objective in business terms\n",
    "3. How should you frame the problem (supervised/unsupervised etc.)?\n",
    "4. How should performance be measured?"
   ]
  },
  {
   "cell_type": "markdown",
   "id": "4d565ec0",
   "metadata": {},
   "source": [
    "### 2. Get the data\n",
    "1. Find and document where you can get the data from\n",
    "2. Get the data\n",
    "3. Check the size and type of data (time series, geographical etc)"
   ]
  },
  {
   "cell_type": "markdown",
   "id": "7f46c7f4",
   "metadata": {},
   "source": [
    "### 3. Explore the data\n",
    "1. Create a copy of the data for explorations (sampling it down to a manageable size if necessary)\n",
    "2. Create a Jupyter notebook to keep a record of your data exploration\n",
    "3. Study each feature and its characteristics:\n",
    "    * Name\n",
    "    * Type (categorical, int/float, bounded/unbounded, text, structured, etc)\n",
    "    * Percentage of missing values\n",
    "    * Check for outliers, rounding errors etc\n",
    "4. For supervised learning tasks, identify the target(s)\n",
    "5. Visualise the data\n",
    "6. Study the correlations between features\n",
    "7. Identify the promising transformations you may want to apply (e.g. convert skewed targets to normal via a log transformation)\n",
    "8. Document what you have learned"
   ]
  },
  {
   "cell_type": "markdown",
   "id": "3aaac760",
   "metadata": {},
   "source": [
    "### 4. Prepare the data\n",
    "Notes:\n",
    "* Work on copies of the data (keep the original dataset intact).\n",
    "* Write functions for all data transformations you apply, for three reasons:\n",
    "    * So you can easily prepare the data the next time you run your code\n",
    "    * So you can apply these transformations in future projects\n",
    "    * To clean and prepare the test set\n",
    "    \n",
    "    \n",
    "1. Data cleaning:\n",
    "    * Fix or remove outliers (or keep them)\n",
    "    * Fill in missing values (e.g. with zero, mean, median, regression ...) or drop their rows (or columns)\n",
    "2. Feature selection (optional):\n",
    "    * Drop the features that provide no useful information for the task (e.g. a customer ID is usually useless for modelling).\n",
    "3. Feature engineering, where appropriate:\n",
    "    * Discretize continuous features\n",
    "    * Use one-hot encoding if/when relevant\n",
    "    * Add promising transformations of features (e.g. $\\log(x)$, $\\sqrt{x}$, $x^2$, etc)\n",
    "    * Aggregate features into promising new features\n",
    "4. Feature scaling: standardise or normalise features"
   ]
  },
  {
   "cell_type": "markdown",
   "id": "7a45d839",
   "metadata": {},
   "source": [
    "### 5. Short-list promising models\n",
    "We expect you to do some additional research and train at **least one model per team member**.\n",
    "\n",
    "1. Train mainly quick and dirty models from different categories (e.g. linear, SVM, Random Forests etc) using default parameters\n",
    "2. Measure and compare their performance\n",
    "3. Analyse the most significant variables for each algorithm\n",
    "4. Analyse the types of errors the models make\n",
    "5. Have a quick round of feature selection and engineering if necessary\n",
    "6. Have one or two more quick iterations of the five previous steps\n",
    "7. Short-list the top three to five most promising models, preferring models that make different types of errors"
   ]
  },
  {
   "cell_type": "markdown",
   "id": "e213a69c",
   "metadata": {},
   "source": [
    "### 6. Fine-tune the system\n",
    "1. Fine-tune the hyperparameters\n",
    "2. Once you are confident about your final model, measure its performance on the test set to estimate the generalisation error"
   ]
  },
  {
   "cell_type": "markdown",
   "id": "dcb6950a",
   "metadata": {},
   "source": [
    "### 7. Present your solution\n",
    "1. Document what you have done\n",
    "2. Create a nice 15 minute video presentation with slides\n",
    "    * Make sure you highlight the big picture first\n",
    "3. Explain why your solution achieves the business objective\n",
    "4. Don't forget to present interesting points you noticed along the way:\n",
    "    * Describe what worked and what did not\n",
    "    * List your assumptions and you model's limitations\n",
    "5. Ensure your key findings are communicated through nice visualisations or easy-to-remember statements (e.g. \"the median income is the number-one predictor of housing prices\")\n",
    "6. Upload the presentation to some online platform, e.g. YouTube or Vimeo, and supply a link to the video in the notebook."
   ]
  },
  {
   "cell_type": "code",
   "execution_count": null,
   "id": "526af749",
   "metadata": {},
   "outputs": [],
   "source": [
    "planesData = pd.read_csv('public_data_waste_fee.csv')\n",
    "planes = planesData.head(5)\n",
    "print(planes)"
   ]
  },
  {
   "cell_type": "markdown",
   "id": "5c67c04b",
   "metadata": {},
   "source": [
    "## References"
   ]
  },
  {
   "cell_type": "markdown",
   "id": "686fc4a4",
   "metadata": {},
   "source": [
    "Géron, A. 2017, *Hands-On Machine Learning with Scikit-Learn and Tensorflow*, Appendix B, O'Reilly Media, Inc., Sebastopol."
   ]
  },
  {
   "cell_type": "markdown",
   "id": "845ad7c6",
   "metadata": {},
   "source": [
    "#### Links and references used assignment 1\n",
    "* https://www.kaggle.com/code/robikscube/working-with-image-data-in-python/notebook\n",
    "* https://www.irjet.net/archives/V8/i8/IRJET-V8I8147.pdf\n",
    "* https://stackoverflow.com/questions/63001988/how-to-remove-background-of-images-in-python "
   ]
  },
  {
   "cell_type": "code",
   "execution_count": null,
   "id": "3870bbc8",
   "metadata": {},
   "outputs": [],
   "source": []
  }
 ],
 "metadata": {
  "kernelspec": {
   "display_name": "Python 3 (ipykernel)",
   "language": "python",
   "name": "python3"
  },
  "language_info": {
   "codemirror_mode": {
    "name": "ipython",
    "version": 3
   },
   "file_extension": ".py",
   "mimetype": "text/x-python",
   "name": "python",
   "nbconvert_exporter": "python",
   "pygments_lexer": "ipython3",
   "version": "3.9.12"
  }
 },
 "nbformat": 4,
 "nbformat_minor": 5
}
